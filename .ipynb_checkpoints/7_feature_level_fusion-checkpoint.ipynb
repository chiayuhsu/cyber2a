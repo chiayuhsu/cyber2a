{
 "cells": [
  {
   "cell_type": "code",
   "execution_count": 38,
   "id": "78e2fb05-67c3-488b-95db-e11f60fbd0f3",
   "metadata": {},
   "outputs": [],
   "source": [
    "import torch\n",
    "import torch.nn as nn\n",
    "import copy\n",
    "\n",
    "from torchvision import models\n",
    "from torchvision.models.resnet import ResNet18_Weights\n",
    "\n",
    "class MultiModalNN(nn.Module):\n",
    "    def __init__(self):\n",
    "        super().__init__()\n",
    "        model = models.resnet18(weights=ResNet18_Weights.DEFAULT)\n",
    "        model = list(model.children())\n",
    "        model = model[:-2]\n",
    "        model = nn.Sequential(*model)\n",
    "        \n",
    "        self.rgb = copy.deepcopy(model)\n",
    "        self.ndvi = copy.deepcopy(model)\n",
    "        self.nir = copy.deepcopy(model)\n",
    "        \n",
    "        self.last_conv = nn.Conv2d(512 * 3, 512, kernel_size=3, stride=1, padding=1)\n",
    "        self.avgpool = nn.AvgPool2d(kernel_size=8)\n",
    "        self.fc = nn.Linear(512, 10)\n",
    "\n",
    "    def forward(self, x):\n",
    "        rgb_output = self.rgb(x['rgb'])\n",
    "        ndvi_output = self.ndvi(x['ndvi'])\n",
    "        nir_output = self.nir(x['nir'])\n",
    "        print(rgb_output.shape)\n",
    "        print(ndvi_output.shape)\n",
    "        print(nir_output.shape)\n",
    "        output = torch.cat([rgb_output, ndvi_output, nir_output], dim=1)\n",
    "        print(output.shape)\n",
    "        output = self.last_conv(output)\n",
    "        print(output.shape)\n",
    "        output = self.avgpool(output)\n",
    "        print(output.shape)\n",
    "        output = output.reshape(1, -1)\n",
    "        output = self.fc(output)\n",
    "        print(output.shape)\n",
    "\n",
    "        \n",
    "        \n",
    "        \n",
    "        "
   ]
  },
  {
   "cell_type": "code",
   "execution_count": 39,
   "id": "75ca9ff2-3a7d-48d0-9aa5-bb43c1870777",
   "metadata": {},
   "outputs": [],
   "source": [
    "model = MultiModalNN()\n",
    "\n",
    "rgb = torch.randn((1, 3, 256, 256))\n",
    "ndvi = torch.randn((1, 3, 256, 256))\n",
    "nir = torch.randn((1, 3, 256, 256))\n",
    "\n",
    "x = {\n",
    "    'rgb': rgb,\n",
    "    'ndvi': ndvi,\n",
    "    'nir': nir,\n",
    "}"
   ]
  },
  {
   "cell_type": "code",
   "execution_count": 40,
   "id": "735004bf-defa-4c56-9d05-76666bfb91d5",
   "metadata": {},
   "outputs": [
    {
     "name": "stdout",
     "output_type": "stream",
     "text": [
      "torch.Size([1, 512, 8, 8])\n",
      "torch.Size([1, 512, 8, 8])\n",
      "torch.Size([1, 512, 8, 8])\n",
      "torch.Size([1, 1536, 8, 8])\n",
      "torch.Size([1, 512, 8, 8])\n",
      "torch.Size([1, 512, 1, 1])\n",
      "torch.Size([1, 10])\n"
     ]
    }
   ],
   "source": [
    "output = model(x)"
   ]
  },
  {
   "cell_type": "code",
   "execution_count": null,
   "id": "4c75a212-34e0-42c4-9566-e3ec080e1be5",
   "metadata": {},
   "outputs": [],
   "source": []
  }
 ],
 "metadata": {
  "kernelspec": {
   "display_name": "Python 3 (ipykernel)",
   "language": "python",
   "name": "python3"
  },
  "language_info": {
   "codemirror_mode": {
    "name": "ipython",
    "version": 3
   },
   "file_extension": ".py",
   "mimetype": "text/x-python",
   "name": "python",
   "nbconvert_exporter": "python",
   "pygments_lexer": "ipython3",
   "version": "3.12.6"
  }
 },
 "nbformat": 4,
 "nbformat_minor": 5
}
